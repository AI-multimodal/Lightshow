{
 "cells": [
  {
   "cell_type": "markdown",
   "id": "d79b292a-8a7e-4ee8-8ad1-6a8f025847a8",
   "metadata": {},
   "source": [
    "# Lightshow Basic Usage"
   ]
  },
  {
   "cell_type": "markdown",
   "id": "07834dfe-a6e2-498f-99d7-744aee18474b",
   "metadata": {},
   "source": [
    "The [Lightshow](https://github.com/AI-multimodal/Lightshow) software package is a one-stop-shop for writing computational spectroscopy input files. In this tutorial, we'll show you how to initialize a `Database` object from the Materials Project, and use that database to write input files for the FEFF, VASP, EXCITING, Xspectra and OCEAN codes.\n",
    "\n",
    "📝 **Note:** This notebook is a tutorial designed to be run via online hosting services, but you can of course run it locally, it just might require a few modifications.\n",
    "\n",
    "📝 **Note:** You can find our arXiv Preprint here: https://arxiv.org/abs/2211.04452.\n",
    "\n",
    "⚠️ **Important Note:** In order to pull data from the Materials Project, you will have to setup an API key. Lightshow currently uses the v2 API of the Materials Project, and you can find the instructions on how to get an API key here: https://materialsproject.org/api."
   ]
  },
  {
   "cell_type": "code",
   "execution_count": null,
   "id": "9416782a-4770-4ee0-a0cf-4c6ae0001507",
   "metadata": {},
   "outputs": [],
   "source": [
    "%load_ext autoreload\n",
    "%autoreload 2\n",
    "%config Completer.use_jedi = False"
   ]
  },
  {
   "cell_type": "code",
   "execution_count": null,
   "id": "a9b675d5-c911-4093-8a60-1bfb4fc7df40",
   "metadata": {},
   "outputs": [],
   "source": [
    "from pprint import pprint"
   ]
  },
  {
   "cell_type": "markdown",
   "id": "efeab549-e2cb-42af-8d81-0fd61537a231",
   "metadata": {
    "tags": []
   },
   "source": [
    "## Summary"
   ]
  },
  {
   "cell_type": "markdown",
   "id": "111554dd-ebfa-4b13-b68c-38344e161925",
   "metadata": {},
   "source": [
    "Below, we showcase a workflow for performing a two-step process for constructing a structure-spectra (or more generally, structure-property) database for future use in e.g. data-driven analysis techniques, or simply for convenience.\n",
    "1. Database construction: information is pulled from the Materials Project.\n",
    "2. Input file writing: all input files for the desired calculations are saved systematically. This includes all desired metadata and the precise states of all of the input file writers.\n",
    "\n",
    "**Note:** For convenience, set your Pymatgen API key in an environment variable called `MP_API_KEY`. Alternatively, you can pass it directly when calling the `from_materials_project` classmethod below."
   ]
  },
  {
   "cell_type": "markdown",
   "id": "7a8079ca-508c-4c70-b296-1f3a41ff795f",
   "metadata": {},
   "source": [
    "# Install Lightshow"
   ]
  },
  {
   "cell_type": "markdown",
   "id": "14b7f0ae-2073-49cf-84a7-fdab9e998dc2",
   "metadata": {},
   "source": [
    "You can install lightshow via `pip` in this single command!"
   ]
  },
  {
   "cell_type": "code",
   "execution_count": null,
   "id": "66ca4865-ba3f-4dac-a780-014c466c2005",
   "metadata": {},
   "outputs": [],
   "source": [
    "!pip install lightshow"
   ]
  },
  {
   "cell_type": "markdown",
   "id": "6aec7f97-9ece-4dad-92d6-9e9f2ead3e4b",
   "metadata": {},
   "source": [
    "# Demo"
   ]
  },
  {
   "cell_type": "markdown",
   "id": "21c9ba91-3f7c-485a-9258-f57c9c738fe3",
   "metadata": {},
   "source": [
    "Before you do anything else, you'll need to get a Materials Project API key. Instructions can be found here: https://materialsproject.org/api. Once you have it, simply replace `_YOUR_API_KEY_` below with your key, and run the cell.\n",
    "\n",
    "⚠️ **Warning:** Do not in general share any API keys or save them in notebooks. These keys are tied to YOU, and at the very least, usually the terms of service dictate that you are the only one allowed to use the key. "
   ]
  },
  {
   "cell_type": "code",
   "execution_count": null,
   "id": "d7873a8e-8953-497a-91b6-741a3f80d3f9",
   "metadata": {},
   "outputs": [],
   "source": [
    "api_key=_YOUR_API_KEY_"
   ]
  },
  {
   "cell_type": "markdown",
   "id": "f1f59bd8-4a6c-441d-9a54-e85549cd777c",
   "metadata": {},
   "source": [
    "## The `Database` object"
   ]
  },
  {
   "cell_type": "markdown",
   "id": "6c561ad8-4176-4dfe-a1ae-d4abb7cf60e8",
   "metadata": {},
   "source": [
    "The Lightshow API is designed with simplicity in mind. It contains two core objects: the `Database` and parameter files that inherit from `lightshow.parameters._base._BaseParameters`.\n",
    "\n",
    "You can import the `Database` object via\n",
    "\n",
    "```python\n",
    "from lightshow import Database\n",
    "```\n",
    "\n",
    "It is a lightweight wrapper for two primary pieces of information. The structures\n",
    "\n",
    "```python\n",
    "db = Database(...)\n",
    "db.structures\n",
    "```\n",
    "\n",
    "which is a dictionary of keys (which usually represent Materials Project IDs) and `pymatgen.core.structure.Structure` objects.\n",
    "\n",
    "The second piece of information is the metadata:\n",
    "\n",
    "```python\n",
    "db.metadata\n",
    "```\n",
    "\n",
    "which generally is curated metadata from the Materials Project.\n",
    "\n",
    "Let's import the `Database` object below and instantiate it from a few materials. In the cells below, the Pymatgen API key is read from an environment variable (`PMG_API_KEY`), but you can always pass it directly to any of the `Database` classmethods by using the `api_key` keyword argument."
   ]
  },
  {
   "cell_type": "code",
   "execution_count": null,
   "id": "48a5bfa0-ae30-4a80-ba7f-ac094e404318",
   "metadata": {},
   "outputs": [],
   "source": [
    "import sys\n",
    "sys.path.append(\"..\")"
   ]
  },
  {
   "cell_type": "code",
   "execution_count": null,
   "id": "1e52ffc5-4209-47af-964b-e9d3401480f2",
   "metadata": {},
   "outputs": [],
   "source": [
    "import lightshow\n",
    "from lightshow import Database\n",
    "print(lightshow.__version__)"
   ]
  },
  {
   "cell_type": "code",
   "execution_count": null,
   "id": "9a7146f6-5460-4e20-addd-17ad641ed54e",
   "metadata": {},
   "outputs": [],
   "source": [
    "database = Database.from_materials_project(material_ids=[\n",
    "    \"mp-390\",\n",
    "    \"mp-1215\",\n",
    "    \"mp-1840\",\n",
    "    \"mp-2657\",\n",
    "    \"mp-2664\",\n",
    "    \"mp-430\",\n",
    "    \"mp-458\",\n",
    "    \"mp-10734\",\n",
    "    \"mp-390\",\n",
    "    \"mp-754147\",\n",
    "])"
   ]
  },
  {
   "cell_type": "markdown",
   "id": "31444359-eb92-4fe7-b931-e09a2251856f",
   "metadata": {},
   "source": [
    "You can always access the structures, metadata and any errors that were logged during the retrieval of the data:"
   ]
  },
  {
   "cell_type": "markdown",
   "id": "d0b0e666-3cbf-4fcb-9361-d8f51778baa4",
   "metadata": {},
   "source": [
    "## The `Parameters` and workflow"
   ]
  },
  {
   "cell_type": "markdown",
   "id": "8c03bb5c-178f-4a84-93db-115ef9b6ac9f",
   "metadata": {},
   "source": [
    "Once the `Database` is created, you can write various input files for each type of spectroscopy code of interest. Currently available are:\n",
    "* FEFF\n",
    "* VASP\n",
    "* XSpectra\n",
    "* EXCITING\n",
    "* OCEAN\n",
    "\n",
    "though for this tutorial we'll focus on FEFF and VASP. The remaining workflow goes as such:\n",
    "1. Instantiate a parameter object for each of the input files of interest\n",
    "2. Pass those parameter objects to the `Database` `write` method\n",
    "\n",
    "Let's import the parameters we need."
   ]
  },
  {
   "cell_type": "code",
   "execution_count": null,
   "id": "829dfa9c-b51c-44e2-b8d1-46c7ef87e06f",
   "metadata": {},
   "outputs": [],
   "source": [
    "from lightshow import FEFFParameters, VASPParameters, OCEANParameters, EXCITINGParameters, XSpectraParameters"
   ]
  },
  {
   "cell_type": "markdown",
   "id": "53293c2c",
   "metadata": {},
   "source": [
    "### FEFF Parameters\n",
    "Documentation can be found [here](https://ai-multimodal.github.io/Lightshow/quickstart.html#feff)."
   ]
  },
  {
   "cell_type": "markdown",
   "id": "f4f472bb-a108-4005-a18b-770aa4827f8f",
   "metadata": {},
   "source": [
    "Next let's construct the FEFF inputs, which mimic Pymatgen's API, but allow for easier systematic input file generation, which we'll explain when we run the `write` method.\n",
    "\n",
    "The `FEFFParameters` takes a few core arguments, including `cards` (which generally just mimic that of the FEFF input file itself), `edge` (for the type of edge you want, e.g. `\"K\"` or `\"L3\"`) and `radius`. The `radius` key is very important, as this determines the size of the cluster, with respect to the absorbing atom, that will be generated and saved."
   ]
  },
  {
   "cell_type": "code",
   "execution_count": null,
   "id": "b9ed4ac3-f288-431b-b1a5-4513c0498f1b",
   "metadata": {},
   "outputs": [],
   "source": [
    "feff_params = FEFFParameters(\n",
    "    cards={\n",
    "        \"S02\": \"0\",\n",
    "        \"COREHOLE\": \"RPA\",\n",
    "        \"CONTROL\": \"1 1 1 1 1 1\",\n",
    "        \"XANES\": \"4 0.04 0.1\",\n",
    "        \"SCF\": \"7.0 0 100 0.2 3\",\n",
    "        \"FMS\": \"9.0 0\",\n",
    "        \"EXCHANGE\": \"0 0.0 0.0 2\",\n",
    "        \"RPATH\": \"-1\"\n",
    "    },\n",
    "    edge=\"K\",\n",
    "    radius=10.0\n",
    ")"
   ]
  },
  {
   "cell_type": "markdown",
   "id": "43f376f4-07e1-4da9-80f0-3eca1b042b71",
   "metadata": {},
   "source": [
    "Other input keyword arguments to `FEFFParameters` include:\n",
    "- `spectrum`, which can be either `\"XANES\"` or `\"EXAFS\"`\n",
    "- `name`, which defaults to `\"FEFF\"` and indicates the name of the directory corresponding to this parameter (note that every `Parameters` object requires this keyword argument to be set)\n",
    "- Any other keyword arguments passed will be passed to the `FEFFDictSet` Pymatgen object"
   ]
  },
  {
   "cell_type": "markdown",
   "id": "bb3f069a",
   "metadata": {},
   "source": [
    "### VASP Parameters"
   ]
  },
  {
   "cell_type": "markdown",
   "id": "8879e698-28cc-4aad-b5f7-939d83708d6a",
   "metadata": {},
   "source": [
    "Documentation can be found [here](https://ai-multimodal.github.io/Lightshow/quickstart.html#vasp)."
   ]
  },
  {
   "cell_type": "markdown",
   "id": "0f311703-6491-4d09-8407-cf13c969f5a6",
   "metadata": {},
   "source": [
    "Next, we'll do the same thing for VASP. This is a bit more complex, since VASP requires quite a few different types of input files. Check out the documentation to see exactly what each of these do. For now, we'll use many of the defaults.\n",
    "\n",
    "Note that each parameter type takes different arguments. We also note that there are some defaults that you can make use of, and modify accordingly. For example, we'll use the `VASP_INCAR_DEFAULT_COREHOLE_POTENTIAL` default:"
   ]
  },
  {
   "cell_type": "code",
   "execution_count": null,
   "id": "0319fa7d-59e4-4cba-bf69-76da9ab1fd1a",
   "metadata": {},
   "outputs": [],
   "source": [
    "from lightshow.defaults import VASP_INCAR_DEFAULT_COREHOLE_POTENTIAL"
   ]
  },
  {
   "cell_type": "markdown",
   "id": "90c9b044-4c70-41d1-8027-24f9c9eec082",
   "metadata": {},
   "source": [
    "Setting the `VASPParameters` is a bit trickier than that of FEFF, as the code requires a bit more specificity in its input files."
   ]
  },
  {
   "cell_type": "markdown",
   "id": "c74987de-18c4-4e69-ba0c-085629b5588b",
   "metadata": {},
   "source": [
    "#### Incar file"
   ]
  },
  {
   "cell_type": "markdown",
   "id": "76810f97-3419-43ee-8a4a-cb649b282afc",
   "metadata": {},
   "source": [
    "The `INCAR` parameters are passed to the `incar` keyword argument, and look something like this:\n",
    "\n",
    "```\n",
    "{\n",
    " 'ALGO': 'Normal',\n",
    " 'CH_LSPEC': True,\n",
    " 'CH_NEDOS': 40000,\n",
    " 'CH_SIGMA': 0.05,\n",
    " 'CLL': 0,\n",
    " 'CLN': 1,\n",
    " 'CLNT': 1,\n",
    " 'CLZ': 1.0,\n",
    " 'EDIFF': 1e-05,\n",
    " 'EDIFFG': -0.01,\n",
    " 'ICORELEVEL': 2,\n",
    " 'ISMEAR': 0,\n",
    " 'ISPIN': 2,\n",
    " 'KPAR': 1,\n",
    " 'LAECHG': True,\n",
    " 'LCHARG': False,\n",
    " 'LREAL': 'Auto',\n",
    " 'LWAVE': False,\n",
    " 'NCORE': 1,\n",
    " 'NELM': 200,\n",
    " 'NSIM': 16,\n",
    " 'PREC': 'Accurate',\n",
    " 'SIGMA': 0.05,\n",
    " 'SYMPREC': 1e-05\n",
    "}\n",
    " ```\n",
    " \n",
    "This is a standard corehole calculation input file. Note a few important parameters, such as the `Normal` algorithm type, `CH_LSPEC == True` and the number of points to compute on the spectrum (the default is much too small)."
   ]
  },
  {
   "cell_type": "markdown",
   "id": "35648deb-aa92-46d6-8f51-f3b27a645a0c",
   "metadata": {},
   "source": [
    "#### POTCAR directory"
   ]
  },
  {
   "cell_type": "markdown",
   "id": "8eb15682-4365-4d9b-a450-aa9fbf5caf31",
   "metadata": {},
   "source": [
    "As the VASP code requires a license, we cannot provide POTCAR files directly. Instead, we provide a mechanism for accessing the user's potentials and incorporating them into the input-file-writing process.\n",
    "\n",
    "Below, we set `potcar_directory` to `None`, which then looks at an environment variable `VASP_POTCAR_DIRECTORY`. If this is not found, POTCAR files will not be written.\n",
    "\n",
    "The directory `VASP_POTCAR_DIRECTORY` contains subdirectories that look like this:\n",
    "\n",
    "```\n",
    "Ac\n",
    "Ag\n",
    "Ag_GW\n",
    "Ag_pv\n",
    "Ag_sv_GW\n",
    "Al\n",
    "...\n",
    "Cr\n",
    "Cr_pv\n",
    "...\n",
    "```\n",
    "\n",
    "Each of these subdirectories contains a `POTCAR` file, which is used to construct the final `POTCAR` for the calculation.\n",
    "\n",
    "There is also the question of which subdirectory to use for each element. For example, for `Ag`, we could use `Ag`, `Ag_GW`, `Ag_pv` or `Ag_sv_GW`. The default settings for each element are provided in `lightshow.parameters.vasp.VASP_POTCAR_DEFAULT_ELEMENT_MAPPING`. Specific entries can be overridden by setting the `potcar_element_mapping` dictionary in `VASPParameters` during instantiation."
   ]
  },
  {
   "cell_type": "markdown",
   "id": "e2ed0424-0e5c-4092-968d-55a6bccc40cb",
   "metadata": {},
   "source": [
    "Additionally, you can set the most important calculational parameters:\n",
    " - `kpoints` a method to define the resolution of the k-grid of the Brilloiun zone; details on this parameter can be found [here](https://arxiv.org/abs/2303.17089). The method is described at the docstirng of `lightshow.common.kpoints.GenericEstimatorKpoints`, which takes two inputs `cutoff` (effective crystal size) and `max_radii` in Bohr. Based on our benchmark study on Ti K-edge XANES, 43 Bohr is a good choice for VASP and XSpectra; 33 Bohr is a good choice for OCEAN and EXCITING.\n",
    " - `nbands` a method for defining the number of unoccupied bands to be considered. The method is described at the docstring of `lightshow.common.nbands.UnitCellVolumeEstimate`, which takes one input `erange` (the expected energy range)."
   ]
  },
  {
   "cell_type": "code",
   "execution_count": null,
   "id": "becea3c2-6098-4a3a-9baa-18c4a7ae5bda",
   "metadata": {},
   "outputs": [],
   "source": [
    "vasp_params_corehole = VASPParameters(\n",
    "    incar=VASP_INCAR_DEFAULT_COREHOLE_POTENTIAL,\n",
    "    potcar_directory=None,\n",
    "    force_spin_unpolarized=False,\n",
    "    kpoints=lightshow.common.kpoints.GenericEstimatorKpoints(cutoff=43),\n",
    "    nbands=lightshow.common.nbands.UnitCellVolumeEstimate(e_range=40)\n",
    ")"
   ]
  },
  {
   "cell_type": "markdown",
   "id": "47447f07",
   "metadata": {},
   "source": [
    "### OCEAN Parameters"
   ]
  },
  {
   "cell_type": "markdown",
   "id": "57f33b17",
   "metadata": {},
   "source": [
    "Next let's construct the OCEAN inputs, which mimic Pymatgen's API, but allow for easier systematic input file generation, which we'll explain when we run the `write` method.\n",
    "\n",
    "The `OCEANParameters` takes a few core arguments, including `cards` (which generally just mimic that of the OCEAN input file itself) and `edge` (for the type of edge you want, e.g. `\"K\"` or `\"L3\"`). Additionally, you can set the most important calculational parameters:\n",
    "\n",
    "Additionally, you can set the most important calculational parameters:\n",
    " - `kpoints` a method to define the resolution of the k-grid of the Brilloiun zone; details on this parameter can be found [here](https://arxiv.org/abs/2303.17089). The method is described at the docstirng of `lightshow.common.kpoints.GenericEstimatorKpoints`, which takes two inputs `cutoff` (effective crystal size) and `max_radii` in Bohr.\n",
    " - `nbands` a method for defining the number of unoccupied bands to be considered. The method is described at the docstring of `lightshow.common.nbands.UnitCellVolumeEstimate`, which takes one input `erange` (the expected energy range)."
   ]
  },
  {
   "cell_type": "code",
   "execution_count": null,
   "id": "61f753aa-7833-4880-a337-a9aa467fcc20",
   "metadata": {},
   "outputs": [],
   "source": [
    "mycards={'dft': 'qe', 'ecut': '-1', 'opf.program': 'hamann', 'para_prefix': 'srun -n 36'}\n",
    "mycards['pp_database'] = 'ONCVPSP-PBE-PDv0.4-stringent'\n",
    "mycards['core_offset'] = 'true'\n",
    "mycards['screen.nkpt'] = '-2.25'\n",
    "mycards['screen_energy_range'] = '100'\n",
    "mycards['screen.shells'] = '3.5 4.0 4.5 5.0 5.5 6.0'\n",
    "mycards['cnbse.rad'] = '3.5'\n",
    "\n",
    "ocean_params = OCEANParameters(\n",
    "    edge=\"K\",\n",
    "    diel=6.84,\n",
    "    cards=mycards,\n",
    "    kpoints=lightshow.common.kpoints.GenericEstimatorKpoints(cutoff=33),\n",
    "    nbands=lightshow.common.nbands.UnitCellVolumeEstimate(e_range=40)\n",
    ")"
   ]
  },
  {
   "cell_type": "markdown",
   "id": "f365b366",
   "metadata": {},
   "source": [
    "### EXCITING Parameters"
   ]
  },
  {
   "cell_type": "markdown",
   "id": "a2ccb324-2122-4ed9-84e0-afeefe935b2e",
   "metadata": {},
   "source": [
    "Documentation can be found [here](https://exciting-code.org/)"
   ]
  },
  {
   "cell_type": "markdown",
   "id": "e424f8c4",
   "metadata": {
    "pycharm": {
     "name": "#%%\n"
    }
   },
   "source": [
    "EXCITING requires two types of input files. The `input.xml` and the `species` files. \n",
    "\n",
    "The `input.xml` is created by Lightshow, while the path to the `species` files can be provided. By default, Lightshow sets the calculation directory as the path for the `species` files, which means before running the calculations, you need to copy `species` files to working directories manually.\n",
    "\n",
    "The `EXCITINGParameters` takes the arguments `cards` (which generally mimics the EXCITING input itself; refer the EXCITING documentation for details) and `edge` (as for the other codes). Lightshow provides a default `cards` at `lightshow.defaults.EXCITING_DEFAULT_CARDS`. The details of the default cards are:\n",
    "```\n",
    "{'structure': {'speciespath': './', 'autormt': 'true'},\n",
    " 'groundstate': {'xctype': 'GGA_PBE',\n",
    "  'nempty': '200',\n",
    "  'rgkmax': '9.0',\n",
    "  'do': 'fromscratch',\n",
    "  'gmaxvr': '25',\n",
    "  'lmaxmat': '10',\n",
    "  'lmaxvr': '10',\n",
    "  'lmaxapw': '10'},\n",
    " 'xs': {'xstype': 'BSE',\n",
    "  'vkloff': '0.05 0.03 0.13',\n",
    "  'nempty': '150',\n",
    "  'gqmax': '4.0',\n",
    "  'broad': '0.0327069',\n",
    "  'tevout': 'true',\n",
    "  'tappinfo': 'true',\n",
    "  'energywindow': {'intv': '178.2 180.5', 'points': '1000'},\n",
    "  'screening': {'screentype': 'full', 'nempty': '150'},\n",
    "  'BSE': {'xas': 'true',\n",
    "   'bsetype': 'singlet',\n",
    "   'nstlxas': '1 20',\n",
    "   'distribute': 'true',\n",
    "   'eecs': '1000'},\n",
    "  'qpointset': {'qpoint': {'text()': '0.0 0.0 0.0'}}}}\n",
    " ```\n",
    "This default card is a dictionary, you can simply change your own input values using dictionary operations. For example, if you want to change the `bsetype` to independent spectra calculation:"
   ]
  },
  {
   "cell_type": "code",
   "execution_count": null,
   "id": "24bee496-b8fd-4bff-919e-7f38c381c020",
   "metadata": {},
   "outputs": [],
   "source": [
    "from lightshow.defaults import EXCITING_DEFAULT_CARDS\n",
    "mycards = EXCITING_DEFAULT_CARDS\n",
    "mycards['xs']['BSE']['bsetype'] = 'IP'"
   ]
  },
  {
   "cell_type": "markdown",
   "id": "10be6802-5516-4dc7-a18d-0410975ee09b",
   "metadata": {},
   "source": [
    "Please note we use separate argument to control some of the input parameters. For example, if you want to change the `speciespath`, you need to provide the value to `species_directory` in the `EXCITINGParameters` instead of modifying the `cards` parameter."
   ]
  },
  {
   "cell_type": "markdown",
   "id": "04d632b9-0237-4f1e-9eb6-aa6f73a04aac",
   "metadata": {},
   "source": [
    "Additionally, you can set the most important calculational parameters:\n",
    " - `kpoints` a method to define the resolution of the k-grid of the Brilloiun zone; details on this parameter can be found [here](https://arxiv.org/abs/2303.17089). The method is described at the docstirng of `lightshow.common.kpoints.GenericEstimatorKpoints`, which takes two inputs `cutoff` (effective crystal size) and `max_radii` in Bohr.\n",
    " - `nbands` a method for defining the number of unoccupied bands to be considered. The method is described at the docstring of `lightshow.common.nbands.UnitCellVolumeEstimate`, which takes one input `erange` (the expected energy range)."
   ]
  },
  {
   "cell_type": "code",
   "execution_count": null,
   "id": "bc6b6e25",
   "metadata": {
    "jupyter": {
     "outputs_hidden": false
    },
    "pycharm": {
     "name": "#%%\n"
    }
   },
   "outputs": [],
   "source": [
    "exciting_params = EXCITINGParameters(\n",
    "    cards=mycards,\n",
    "    edge=\"K\",\n",
    "    kpoints=lightshow.common.kpoints.GenericEstimatorKpoints(cutoff=33),\n",
    "    nbands=lightshow.common.nbands.UnitCellVolumeEstimate(e_range=40)  \n",
    ")"
   ]
  },
  {
   "cell_type": "markdown",
   "id": "041e4c12",
   "metadata": {},
   "source": [
    "### XSPECTRA Parameters"
   ]
  },
  {
   "cell_type": "markdown",
   "id": "77402d6c-061f-4029-bcae-a10936f81e42",
   "metadata": {},
   "source": [
    "Documentation can be found [here](https://www.quantum-espresso.org/Doc/INPUT_XSPECTRA)"
   ]
  },
  {
   "cell_type": "markdown",
   "id": "5528ef8d-f9c0-476a-a2f8-02db68924f57",
   "metadata": {},
   "source": [
    "XSpectra calculates the XANES spectra in two steps: an scf calculation and a spectra calcualtion. The `es.in` is the input file of the prerequisite scf calculation, which is based on Quantum Espresso. The `xanes.in` is the input file for the spectra calcualtions. Three folders named as `dipole{1..}` will be generated by Lightshow, corresponding the three polar directions. The `gs.in` used for the ground state calculation will also be generated."
   ]
  },
  {
   "cell_type": "markdown",
   "id": "78e9f54b-05a6-4951-9c2f-6281209bb08d",
   "metadata": {},
   "source": [
    "#### Pseudo potential\n",
    "XSpectra requires core-hole pseudo potential for the absorbing atom in `es.in`. Lightshow does not provide any core-hole pseudo potential along with its release. Users need to generate corresponding the core-hole pseudo potential by themselves. Users also need to take care of the pseudo potentials for the elements other than the absorber. In the input files like `es.in` and `gs.in`, a placeholder for pseduo potential of each element is used, for example, Ti.upf. \n",
    "\n",
    "If the users have a pseudo potential database they want to link, such as [SSSP database](https://www.materialscloud.org/discover/sssp/table/precision), they can point to the directory for the database \n",
    " using `psp_directory` parameter. Besides, they will also need to create a cutoff table file in **JSON** format containing some basic information about the database and provide the name of the cutoff table file to `psp_cutoff_table`. An example of the cutoff table in **JSON** format looks like:\n",
    "```\n",
    "        {\n",
    "                'Ti': {'filename': 'Ti.upf',\n",
    "                'cutoff_wfc': 50.0,\n",
    "                'cutoff_rho': 200.0},\n",
    "                'O': {'filename': 'O.upf',\n",
    "                'cutoff_wfc': 60.0,\n",
    "                'cutoff_rho': 240.0},               \n",
    "        }\n",
    "```\n",
    "where the keys are element names, and inside it are the filename, cutoff_wfc, and cutoff_rho. By setting the `psp_directory` and corresponding `psp_cutoff_table`, Lightshow will copy the pseudo potential files to the working directory and take care of the pseudo potential filename and corresponding energy cutoffs in the input files. "
   ]
  },
  {
   "cell_type": "markdown",
   "id": "0d0c0c5b-6daf-4330-8bf5-d6592d8c5c76",
   "metadata": {},
   "source": [
    "#### Core-hole Pseudo potential\n",
    "The users can link the the directory where the core-hole pseudo potentials and the core wavefunctions are stored using `chpsp_directory` parameter in Lightshow. The naming of the core-hole pseudo potentials and core wavefunctions should follow strickly the naming convention: *element*.fch.upf and Core_*element*.wfc, where *element* is the target element."
   ]
  },
  {
   "cell_type": "markdown",
   "id": "1877f4c6-d982-4c30-877b-638a1fccaa30",
   "metadata": {},
   "source": [
    "The `XSpectraParameters` takes the argumentes `card` and `edge`. Below is a default `card` provided by Lightshow, which can be stored at `lightshow.defaults.XSPECTRA_DEFAULT_CARDS`.\n",
    "```\n",
    "{'QE': {'control': {'restart_mode': 'from_scratch', 'wf_collect': '.true.'},\n",
    "  'electrons': {'conv_thr': 1e-08, 'mixing_beta': 0.4},\n",
    "  'system': {'degauss': 0.002,\n",
    "   'ecutrho': 320,\n",
    "   'ecutwfc': 40,\n",
    "   'nspin': 1,\n",
    "   'occupations': 'smearing',\n",
    "   'smearing': 'gauss'}},\n",
    " 'XS': {'cut_occ': {'cut_desmooth': 0.3},\n",
    "  'input_xspectra': {'outdir': '../',\n",
    "   'prefix': 'pwscf',\n",
    "   'xcheck_conv': 200,\n",
    "   'xerror': 0.01,\n",
    "   'xniter': 5000,\n",
    "   'xcoordcrys': '.false.'},\n",
    "  'kpts': {'kpts': '2 2 2', 'shift': '0 0 0'},\n",
    "  'plot': {'cut_occ_states': '.true.',\n",
    "   'terminator': '.true.',\n",
    "   'xemax': 70,\n",
    "   'xemin': -15.0,\n",
    "   'xnepoint': 400}}}\n",
    "```\n",
    "The default `card` is just dictionary with two main keys: `QE` key governs the basic parameter for Quantum Espresso calculation; `XS` determines the XANES calcualtion. You can change the default parameters by using simple dictionary operations. Please note: some of the default parameters could be overwritten by some other keywords in `XSpectraParameters`, such as the energy cutoff, number of kpoints, convergence threshold etc."
   ]
  },
  {
   "cell_type": "code",
   "execution_count": null,
   "id": "81d24ca8-72f8-4cc7-9a98-ed6595769532",
   "metadata": {},
   "outputs": [],
   "source": [
    "from lightshow.defaults import XSPECTRA_DEFAULT_CARDS\n",
    "mycards = XSPECTRA_DEFAULT_CARDS"
   ]
  },
  {
   "cell_type": "markdown",
   "id": "79befb64-6573-4ea4-869a-26e6493303b0",
   "metadata": {},
   "source": [
    "Additionally, you can set the most important calculational parameters:\n",
    " - `kpoints` a method to define the resolution of the k-grid of the Brilloiun zone; details on this parameter can be found [here](https://arxiv.org/abs/2303.17089). The method is described at the docstirng of `lightshow.common.kpoints.GenericEstimatorKpoints`, which takes two inputs `cutoff` (effective crystal size) and `max_radii` in Bohr."
   ]
  },
  {
   "cell_type": "code",
   "execution_count": null,
   "id": "832b6703-68b0-40d7-a0e4-f0e00b6e3a48",
   "metadata": {},
   "outputs": [],
   "source": [
    "from lightshow.common.kpoints import GenericEstimatorKpoints"
   ]
  },
  {
   "cell_type": "code",
   "execution_count": null,
   "id": "daad5552-13f8-4d60-94f3-1ccb438855ba",
   "metadata": {},
   "outputs": [],
   "source": [
    "xspectra_params = XSpectraParameters(\n",
    "    cards=mycards,\n",
    "    edge=\"K\",\n",
    "    kpoints=lightshow.common.kpoints.GenericEstimatorKpoints(cutoff=43),\n",
    ")"
   ]
  },
  {
   "cell_type": "markdown",
   "id": "9430320f-2838-44a8-bab0-e01a7e59c877",
   "metadata": {},
   "source": [
    "## Write"
   ]
  },
  {
   "cell_type": "markdown",
   "id": "7122ec76-78d5-4c5c-b91a-4b9f24522e41",
   "metadata": {},
   "source": [
    "Once the parameter files are created, we can call the `write` method. This does a few things, and reading the documentation for `write` is advised. However, for starters, note that there are a few key parameters that should be set in general.\n",
    "* `root`: the root directory for saving the files. Everything gets saved here.\n",
    "* `absorbing_atom`: when doing any spectroscopy calculation, the `absorbing_atom` must be specified. The exception to this is for \"global\" calculations, such as a pure SCF VASP calculation, where `absorbing_atom=None` is permitted.\n",
    "* `options`: this is a list of the parameter files you've defined above. This tells `write` which types of spectroscopy input files to create.\n",
    "* There are also various \"global\" property cutoffs the user can specify, such as `max_primitive_total_atoms`, which should be self-explanatory. For now though, leaving them as the default causes them to behave sensibly."
   ]
  },
  {
   "cell_type": "code",
   "execution_count": null,
   "id": "0fc37568-917f-411a-997a-92c107b6ad2d",
   "metadata": {},
   "outputs": [],
   "source": [
    "database.write(\"test\", options=[feff_params, vasp_params_corehole, ocean_params, exciting_params, xspectra_params], absorbing_atoms=[\"Ti\"])"
   ]
  },
  {
   "cell_type": "markdown",
   "id": "2163bbb5-5a46-4cf7-a270-8937425c0ceb",
   "metadata": {},
   "source": [
    "# MSONable"
   ]
  },
  {
   "cell_type": "markdown",
   "id": "c183141c-63dc-4425-bbd1-8568dff47276",
   "metadata": {},
   "source": [
    "Every object of importance in `Lightshow` can be serialized as a Python dictionary. This allows users to save any object they want and reload it from disk in a readable way, significantly extending the transparency of the core objects. For example:"
   ]
  },
  {
   "cell_type": "code",
   "execution_count": null,
   "id": "68f79143-c9d8-4c70-b527-7eb822fee322",
   "metadata": {
    "tags": []
   },
   "outputs": [],
   "source": [
    "pprint(database.as_dict())\n",
    "pprint(feff_params.as_dict())\n",
    "pprint(vasp_params_corehole.as_dict())\n",
    "pprint(ocean_params.as_dict())"
   ]
  },
  {
   "cell_type": "markdown",
   "id": "456e5d1b-0d28-4486-8e12-4cf7d248b34d",
   "metadata": {},
   "source": [
    "The code makes use of this ability during the use of `write`, where an object `writer_metadata.json` is always saved, which details every aspect of the input files. "
   ]
  },
  {
   "cell_type": "markdown",
   "id": "0f974762-ada1-4e91-a194-158d84e25141",
   "metadata": {},
   "source": [
    "# Optional: download your files"
   ]
  },
  {
   "cell_type": "markdown",
   "id": "f9cc5c2f-53be-4eea-98b9-dd5c593c1810",
   "metadata": {},
   "source": [
    "If you are using Google Colab or something like it, you can download your files via something like this."
   ]
  },
  {
   "cell_type": "code",
   "execution_count": null,
   "id": "6cd5056d-7e1b-47ac-8c44-e734bdb63f24",
   "metadata": {},
   "outputs": [],
   "source": [
    "!zip -r /content/test.zip /content/test"
   ]
  },
  {
   "cell_type": "code",
   "execution_count": null,
   "id": "e1c68e96-7bcb-409f-9972-fc7c84b9e830",
   "metadata": {},
   "outputs": [],
   "source": [
    "from google.colab import files\n",
    "files.download(\"/content/test.zip\")"
   ]
  }
 ],
 "metadata": {
  "kernelspec": {
   "display_name": "Python 3 (ipykernel)",
   "language": "python",
   "name": "python3"
  },
  "language_info": {
   "codemirror_mode": {
    "name": "ipython",
    "version": 3
   },
   "file_extension": ".py",
   "mimetype": "text/x-python",
   "name": "python",
   "nbconvert_exporter": "python",
   "pygments_lexer": "ipython3",
   "version": "3.9.16"
  },
  "toc-autonumbering": true
 },
 "nbformat": 4,
 "nbformat_minor": 5
}
