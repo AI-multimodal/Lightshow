{
 "cells": [
  {
   "cell_type": "markdown",
   "id": "d79b292a-8a7e-4ee8-8ad1-6a8f025847a8",
   "metadata": {},
   "source": [
    "# Lightshow Basic Usage"
   ]
  },
  {
   "cell_type": "markdown",
   "id": "07834dfe-a6e2-498f-99d7-744aee18474b",
   "metadata": {},
   "source": [
    "The `Lightshow` software package is a one-stop-shop for writing computational spectroscopy input files. In this tutorial, we'll show you how to initialize a `Database` object from the Materials Project, and use that database to write input files for both the FEFF and VASP codes.\n",
    "\n",
    "**Note:** Run this notebook from within `Lightshow/notebooks`, that way the paths all align."
   ]
  },
  {
   "cell_type": "code",
   "execution_count": null,
   "id": "9416782a-4770-4ee0-a0cf-4c6ae0001507",
   "metadata": {},
   "outputs": [],
   "source": [
    "%load_ext autoreload\n",
    "%autoreload 2\n",
    "%config Completer.use_jedi = False"
   ]
  },
  {
   "cell_type": "markdown",
   "id": "b63c190b-d74a-4f29-a4fe-8c3c190e86e3",
   "metadata": {},
   "source": [
    "So the paths work:"
   ]
  },
  {
   "cell_type": "code",
   "execution_count": null,
   "id": "b561ba91-0744-4ebe-8e4b-560562cb7be9",
   "metadata": {},
   "outputs": [],
   "source": [
    "import sys\n",
    "from pathlib import Path\n",
    "sys.path.append(str(Path.cwd().parent))"
   ]
  },
  {
   "cell_type": "code",
   "execution_count": null,
   "id": "a9b675d5-c911-4093-8a60-1bfb4fc7df40",
   "metadata": {},
   "outputs": [],
   "source": [
    "from pprint import pprint"
   ]
  },
  {
   "cell_type": "markdown",
   "id": "efeab549-e2cb-42af-8d81-0fd61537a231",
   "metadata": {
    "tags": []
   },
   "source": [
    "## Summary"
   ]
  },
  {
   "cell_type": "markdown",
   "id": "111554dd-ebfa-4b13-b68c-38344e161925",
   "metadata": {},
   "source": [
    "Below, we showcase a workflow for performing a two-step process for constructing a structure-spectra (or more generally, structure-property) database for future use in e.g. data-driven analysis techniques, or simply for convenience.\n",
    "1. Database construction: information is pulled from the Materials Project.\n",
    "2. Input file writing: all input files for the desired calculations are saved systematically. This includes all desired metadata and the precise states of all of the input file writers.\n",
    "\n",
    "**Note:** For convenience, set your Pymatgen API key in an environment variable called `PMG_API_KEY`. Alternatively, you can pass it directly when calling the `from_materials_project` classmethod below."
   ]
  },
  {
   "cell_type": "markdown",
   "id": "6aec7f97-9ece-4dad-92d6-9e9f2ead3e4b",
   "metadata": {},
   "source": [
    "# Demo"
   ]
  },
  {
   "cell_type": "markdown",
   "id": "21c9ba91-3f7c-485a-9258-f57c9c738fe3",
   "metadata": {},
   "source": [
    "The `Lightshow` API is designed with simplicity in mind. It contains two core objects: the `Database` and parameter files that inherit from `lightshow.parameters._base._BaseParameters`."
   ]
  },
  {
   "cell_type": "markdown",
   "id": "f1f59bd8-4a6c-441d-9a54-e85549cd777c",
   "metadata": {},
   "source": [
    "## The `Database` object"
   ]
  },
  {
   "cell_type": "markdown",
   "id": "6c561ad8-4176-4dfe-a1ae-d4abb7cf60e8",
   "metadata": {},
   "source": [
    "You can import the `Database` object via\n",
    "\n",
    "```python\n",
    "from lightshow import Database\n",
    "```\n",
    "\n",
    "It is a lightweight wrapper for two primary pieces of information. The structures\n",
    "\n",
    "```python\n",
    "db = Database(...)\n",
    "db.structures\n",
    "```\n",
    "\n",
    "which is a dictionary of keys (which usually represent Materials Project IDs) and `pymatgen.core.structure.Structure` objects.\n",
    "\n",
    "The second piece of information is the metadata:\n",
    "\n",
    "```python\n",
    "db.metadata\n",
    "```\n",
    "\n",
    "which generally is curated metadata from the Materials Project.\n",
    "\n",
    "Let's import the `Database` object below and instantiate it from two Materials, `mp-390` and `mvc-11115`. In the cells below, the Pymatgen API key is read from an environment variable, but you can always pass it directly to any of the `Database` classmethods by using the `api_key` keyword argument."
   ]
  },
  {
   "cell_type": "code",
   "execution_count": null,
   "id": "1e52ffc5-4209-47af-964b-e9d3401480f2",
   "metadata": {},
   "outputs": [],
   "source": [
    "from lightshow import Database"
   ]
  },
  {
   "cell_type": "code",
   "execution_count": null,
   "id": "9a7146f6-5460-4e20-addd-17ad641ed54e",
   "metadata": {},
   "outputs": [],
   "source": [
    "database = Database.from_materials_project([\"mp-390\", \"mvc-11115\"])"
   ]
  },
  {
   "cell_type": "markdown",
   "id": "31444359-eb92-4fe7-b931-e09a2251856f",
   "metadata": {},
   "source": [
    "You can always access the structures, metadata and any errors that were logged during the retrieval of the data:"
   ]
  },
  {
   "cell_type": "code",
   "execution_count": null,
   "id": "4a328f84-2ec1-42b9-8589-a249b4b110c7",
   "metadata": {
    "tags": []
   },
   "outputs": [],
   "source": [
    "pprint(database.structures)\n",
    "pprint(database.metadata)\n",
    "pprint(database.errors)"
   ]
  },
  {
   "cell_type": "markdown",
   "id": "d0b0e666-3cbf-4fcb-9361-d8f51778baa4",
   "metadata": {},
   "source": [
    "## The `Parameters` and workflow"
   ]
  },
  {
   "cell_type": "markdown",
   "id": "8c03bb5c-178f-4a84-93db-115ef9b6ac9f",
   "metadata": {},
   "source": [
    "Once the `Database` is created, you can write various input files for each type of spectroscopy code of interest. Currently available are:\n",
    "* FEFF\n",
    "* VASP\n",
    "* XSpectra\n",
    "* EXCITING\n",
    "* OCEAN\n",
    "\n",
    "though for this tutorial we'll focus on FEFF and VASP. The remaining workflow goes as such:\n",
    "1. Instantiate a parameter object for each of the input files of interest\n",
    "2. Pass those parameter objects to the `Database` `write` method\n",
    "\n",
    "Let's import the parameters we need."
   ]
  },
  {
   "cell_type": "code",
   "execution_count": null,
   "id": "829dfa9c-b51c-44e2-b8d1-46c7ef87e06f",
   "metadata": {},
   "outputs": [],
   "source": [
    "from lightshow import FEFFParameters, VASPParameters, OCEANParameters"
   ]
  },
  {
   "cell_type": "markdown",
   "id": "dc9cdbf4-b59b-4cb8-b4da-6571ee280bcd",
   "metadata": {},
   "source": [
    "Each parameter type takes different arguments. We also note that there are some defaults that you can make use of, and modify accordingly. For example, we'll use the `VASP_INCAR_DEFAULT_COREHOLE_POTENTIAL` default:"
   ]
  },
  {
   "cell_type": "code",
   "execution_count": null,
   "id": "0319fa7d-59e4-4cba-bf69-76da9ab1fd1a",
   "metadata": {},
   "outputs": [],
   "source": [
    "from lightshow.defaults import VASP_INCAR_DEFAULT_COREHOLE_POTENTIAL"
   ]
  },
  {
   "cell_type": "markdown",
   "id": "f4f472bb-a108-4005-a18b-770aa4827f8f",
   "metadata": {},
   "source": [
    "Next let's construct the FEFF inputs, which mimic Pymatgen's API, but allow for easier systematic input file generation, which we'll explain when we run the `write` method.\n",
    "\n",
    "The `FEFFParameters` takes a few core arguments, including `cards` (which generally just mimic that of the FEFF input file itself), `edge` (for the type of edge you want, e.g. `\"K\"` or `\"L3\"`) and `radius`. The `radius` key is very important, as this determines the size of the cluster, with respect to the absorbing atom, that will be generated and saved."
   ]
  },
  {
   "cell_type": "code",
   "execution_count": null,
   "id": "b9ed4ac3-f288-431b-b1a5-4513c0498f1b",
   "metadata": {},
   "outputs": [],
   "source": [
    "feff_params = FEFFParameters(\n",
    "    cards={\n",
    "        \"S02\": \"0\",\n",
    "        \"COREHOLE\": \"RPA\",\n",
    "        \"CONTROL\": \"1 1 1 1 1 1\",\n",
    "        \"XANES\": \"4 0.04 0.1\",\n",
    "        \"SCF\": \"7.0 0 100 0.2 3\",\n",
    "        \"FMS\": \"9.0 0\",\n",
    "        \"EXCHANGE\": \"0 0.0 0.0 2\",\n",
    "        \"RPATH\": \"-1\"\n",
    "    },\n",
    "    edge=\"K\",\n",
    "    radius=5.0\n",
    ")"
   ]
  },
  {
   "cell_type": "markdown",
   "id": "0f311703-6491-4d09-8407-cf13c969f5a6",
   "metadata": {},
   "source": [
    "Next, we'll do the same thing for VASP. This is a bit more complex, since VASP requires quite a few different types of input files. Check out the documentation to see exactly what each of these do. For now, we'll use many of the defaults."
   ]
  },
  {
   "cell_type": "code",
   "execution_count": null,
   "id": "becea3c2-6098-4a3a-9baa-18c4a7ae5bda",
   "metadata": {},
   "outputs": [],
   "source": [
    "vasp_params_corehole = VASPParameters(\n",
    "    incar=VASP_INCAR_DEFAULT_COREHOLE_POTENTIAL,\n",
    "    potcar_directory=None,  # Read from the environment variable VASP_POTCAR_DIRECTORY\n",
    "    kpoints_method=\"custom\",\n",
    "    kpoints_method_kwargs={\"cutoff\": 32.0, \"max_radii\": 50.0},\n",
    "    nbands_estimator=\"heg\",\n",
    "    nbands_parameters={\"erange\": 40.0},\n",
    "    max_bands=1e16,\n",
    "    force_spin_unpolarized=False\n",
    ")"
   ]
  },
  {
   "cell_type": "markdown",
   "id": "57f33b17",
   "metadata": {},
   "source": [
    "And now the same for OCEAN."
   ]
  },
  {
   "cell_type": "code",
   "execution_count": null,
   "id": "ae303812",
   "metadata": {},
   "outputs": [],
   "source": [
    "ocean_params = OCEANParameters(\n",
    "    edge=\"K\"\n",
    ")"
   ]
  },
  {
   "cell_type": "markdown",
   "id": "9430320f-2838-44a8-bab0-e01a7e59c877",
   "metadata": {},
   "source": [
    "## Write"
   ]
  },
  {
   "cell_type": "markdown",
   "id": "7122ec76-78d5-4c5c-b91a-4b9f24522e41",
   "metadata": {},
   "source": [
    "Once the parameter files are created, we can call the `write` method. This does a few things, and reading the documentation for `write` is advised. However, for starters, note that there are a few key parameters that should be set in general.\n",
    "* `root`: the root directory for saving the files. Everything gets saved here.\n",
    "* `absorbing_atom`: when doing any spectroscopy calculation, the `absorbing_atom` must be specified. The exception to this is for \"global\" calculations, such as a pure SCF VASP calculation, where `absorbing_atom=None` is permitted.\n",
    "* `options`: this is a list of the parameter files you've defined above. This tells `write` which types of spectroscopy input files to create.\n",
    "* There are also various \"global\" property cutoffs the user can specify, such as `max_primitive_total_atoms`, which should be self-explanatory. For now though, leaving them as the default causes them to behave sensibly."
   ]
  },
  {
   "cell_type": "code",
   "execution_count": null,
   "id": "0fc37568-917f-411a-997a-92c107b6ad2d",
   "metadata": {},
   "outputs": [],
   "source": [
    "database.write(\"test\", options=[feff_params, vasp_params_corehole, ocean_params], absorbing_atom=\"Ti\")"
   ]
  },
  {
   "cell_type": "markdown",
   "id": "2163bbb5-5a46-4cf7-a270-8937425c0ceb",
   "metadata": {},
   "source": [
    "# MSONable"
   ]
  },
  {
   "cell_type": "markdown",
   "id": "c183141c-63dc-4425-bbd1-8568dff47276",
   "metadata": {},
   "source": [
    "Every object of importance in `Lightshow` can be serialized as a Python dictionary. This allows users to save any object they want and reload it from disk in a readable way, significantly extending the transparency of the core objects. For example:"
   ]
  },
  {
   "cell_type": "code",
   "execution_count": null,
   "id": "68f79143-c9d8-4c70-b527-7eb822fee322",
   "metadata": {
    "tags": []
   },
   "outputs": [],
   "source": [
    "pprint(database.as_dict())\n",
    "pprint(feff_params.as_dict())\n",
    "pprint(vasp_params_corehole.as_dict())\n",
    "pprint(ocean_params.as_dict())"
   ]
  },
  {
   "cell_type": "markdown",
   "id": "456e5d1b-0d28-4486-8e12-4cf7d248b34d",
   "metadata": {},
   "source": [
    "The code makes use of this ability during the use of `write`, where an object `writer_metadata.json` is always saved, which details every aspect of the input files. "
   ]
  }
 ],
 "metadata": {
  "kernelspec": {
   "display_name": "Python 3 (ipykernel)",
   "language": "python",
   "name": "python3"
  },
  "language_info": {
   "codemirror_mode": {
    "name": "ipython",
    "version": 3
   },
   "file_extension": ".py",
   "mimetype": "text/x-python",
   "name": "python",
   "nbconvert_exporter": "python",
   "pygments_lexer": "ipython3",
   "version": "3.9.10"
  },
  "toc-autonumbering": true
 },
 "nbformat": 4,
 "nbformat_minor": 5
}
