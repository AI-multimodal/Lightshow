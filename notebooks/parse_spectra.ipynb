{
 "cells": [
  {
   "cell_type": "markdown",
   "id": "f604d3ea-13ed-4cba-a633-03604abf7897",
   "metadata": {},
   "source": [
    "# Parse spectral results"
   ]
  },
  {
   "cell_type": "code",
   "execution_count": null,
   "id": "6eac0404-521b-43a0-b0b7-ce61b4f2cf33",
   "metadata": {},
   "outputs": [],
   "source": [
    "import numpy as np\n",
    "import sys\n",
    "import matplotlib.pyplot as plt"
   ]
  },
  {
   "cell_type": "code",
   "execution_count": null,
   "id": "ee479958-90c2-4467-8e15-5aaf17eaa098",
   "metadata": {},
   "outputs": [],
   "source": [
    "!pip install lightshow"
   ]
  },
  {
   "cell_type": "markdown",
   "id": "a2c1b545-ab9b-4c68-a580-fd7d250e7dba",
   "metadata": {},
   "source": [
    "###### Please change directory"
   ]
  },
  {
   "cell_type": "code",
   "execution_count": null,
   "id": "c68156ee-66b5-4576-abb7-1e2ca97e72f0",
   "metadata": {},
   "outputs": [],
   "source": [
    "from lightshow.postprocess import parse"
   ]
  },
  {
   "cell_type": "code",
   "execution_count": null,
   "id": "01b19c95-d2e1-44bb-82ab-ac11ea12c6c1",
   "metadata": {},
   "outputs": [],
   "source": [
    "path_feff = './data_parse_spectra/mp-1203/FEFF/000_Ti'\n",
    "path_vasp = './data_parse_spectra/mp-1203/VASP/000_Ti'\n",
    "path_xs = './data_parse_spectra/mp-1203/XSPECTRA/Spectra-6-6-5/0'\n",
    "path_ocean = './data_parse_spectra/mp-1203/OCEAN/Spectra-8-8-6'\n",
    "path_exciting = './data_parse_spectra/mp-1203/EXCITING/Spectra-8-8-6/0'"
   ]
  },
  {
   "cell_type": "code",
   "execution_count": null,
   "id": "c9f254cf-46f9-4cbc-865a-3be8dcaf0ee8",
   "metadata": {},
   "outputs": [],
   "source": [
    "dict_feff = parse.extract_FEFF(path_feff)\n",
    "dict_vasp = parse.extract_VASP(path_vasp)\n",
    "dict_xs = parse.extract_XSpectra(path_xs, es_out_file='./data_parse_spectra/mp-1203/XSPECTRA/es_0.out')\n",
    "dict_ocean = parse.extract_OCEAN(path_ocean, scf_out_file='./data_parse_spectra/mp-1203/OCEAN/scf.out')\n",
    "dict_exciting = parse.extract_exciting(path_exciting, INFO_out_file='./data_parse_spectra/mp-1203/EXCITING/INFO.OUT')"
   ]
  },
  {
   "cell_type": "code",
   "execution_count": null,
   "id": "5e86a6b0-925d-48d3-bd0c-07a81ac3c621",
   "metadata": {},
   "outputs": [],
   "source": [
    "print(\"Fermi energy (in eV): \")\n",
    "print(\"FEFF: \", dict_feff['efermi'])\n",
    "print(\"VASP: \", dict_vasp['efermi'])\n",
    "print(\"XSpectra: \", dict_xs['efermi'])\n",
    "# OCEAN folder contains all elements and all sites. \n",
    "# The sub-dict dict_ocean['Ti']['0001_1s'] contains data of a single set, and has the same structure as the dict extracted from other codes\n",
    "print(\"OCEAN: \", dict_ocean['Ti']['0001_1s']['efermi']) \n",
    "print(\"exciting: \", dict_exciting['efermi'])"
   ]
  },
  {
   "cell_type": "code",
   "execution_count": null,
   "id": "de45d8b7-6027-445a-9309-a22d129b70e1",
   "metadata": {},
   "outputs": [],
   "source": [
    "print(\"Total energy (in eV): \")\n",
    "# print(\"FEFF: \", dict_feff['total_energy'])\n",
    "print(\"VASP: \", dict_vasp['total_energy'])\n",
    "print(\"XSpectra: \", dict_xs['total_energy'])\n",
    "print(\"OCEAN: \", dict_ocean['Ti']['0001_1s']['total_energy'])\n",
    "print(\"exciting: \", dict_exciting['total_energy'])"
   ]
  },
  {
   "cell_type": "code",
   "execution_count": null,
   "id": "a09a1920-71b6-4001-b70c-a72f007d0abd",
   "metadata": {},
   "outputs": [],
   "source": [
    "print(\"Super cell volume from VASP OUTCAR in Angstrom^3: \", dict_vasp['volume'])"
   ]
  },
  {
   "cell_type": "code",
   "execution_count": null,
   "id": "50a15316-c6ae-4098-b046-588651c8bb89",
   "metadata": {},
   "outputs": [],
   "source": [
    "plt.plot(dict_feff['energy'],dict_feff['spectrum'])\n",
    "plt.title('FEFF')"
   ]
  },
  {
   "cell_type": "code",
   "execution_count": null,
   "id": "e87cf615-3bf0-48a7-8fb5-54e8cf0ffe7b",
   "metadata": {},
   "outputs": [],
   "source": [
    "plt.plot(dict_vasp['energy'], dict_vasp['spectrum'], label='spectrum')\n",
    "plt.plot(dict_vasp['energy'], dict_vasp['xx']-2e-7, label='polar xx')\n",
    "plt.plot(dict_vasp['energy'], dict_vasp['yy']-4e-7, label='polar yy')\n",
    "plt.plot(dict_vasp['energy'], dict_vasp['zz']-6e-7, label='polar zz')\n",
    "plt.title('VASP')\n",
    "plt.legend()"
   ]
  },
  {
   "cell_type": "code",
   "execution_count": null,
   "id": "9bb90fb8-9f8f-4601-86ea-f8ffdd63d6fa",
   "metadata": {},
   "outputs": [],
   "source": [
    "plt.plot(dict_xs['energy'], dict_xs['spectrum'], label='spectrum')\n",
    "plt.plot(dict_xs['energy'], dict_xs['dipole1']-0.001, label='dipole1')\n",
    "plt.plot(dict_xs['energy'], dict_xs['dipole2']-0.002, label='dipole2')\n",
    "plt.plot(dict_xs['energy'], dict_xs['dipole3']-0.003, label='dipole3')\n",
    "plt.title('XSpectra')\n",
    "plt.legend()"
   ]
  },
  {
   "cell_type": "code",
   "execution_count": null,
   "id": "c433ea5d-5c13-4978-8d59-7bc03d524470",
   "metadata": {},
   "outputs": [],
   "source": [
    "plt.plot(dict_ocean['Ti']['0001_1s']['energy'],dict_ocean['Ti']['0001_1s']['spectrum'], label='spectrum')\n",
    "plt.plot(dict_ocean['Ti']['0001_1s']['energy'],dict_ocean['Ti']['0001_1s']['01']-1e-6, label='01')\n",
    "plt.plot(dict_ocean['Ti']['0001_1s']['energy'],dict_ocean['Ti']['0001_1s']['02']-2e-6, label='02')\n",
    "plt.plot(dict_ocean['Ti']['0001_1s']['energy'],dict_ocean['Ti']['0001_1s']['03']-3e-6, label='03')\n",
    "# plt.plot(dict_ocean['Ti']['0001_1s']['energy'],(dict_ocean['Ti']['0001_1s']['01']+dict_ocean['Ti']['0001_1s']['02']+dict_ocean['Ti']['0001_1s']['03'])/3, label='03', marker='x', markersize=1)\n",
    "plt.title('OCEAN')\n",
    "plt.legend()"
   ]
  },
  {
   "cell_type": "code",
   "execution_count": null,
   "id": "d0c2456f-7cb8-4082-8c4d-88afbe4c22ed",
   "metadata": {},
   "outputs": [],
   "source": [
    "plt.plot(dict_exciting['energy'],dict_exciting['spectrum'], label='spectrum')\n",
    "plt.plot(dict_exciting['energy'],dict_exciting['11']-1e-6, label='11')\n",
    "plt.plot(dict_exciting['energy'],dict_exciting['22']-2e-6, label='22')\n",
    "plt.plot(dict_exciting['energy'],dict_exciting['33']-3e-6, label='33')\n",
    "plt.title('exciting')\n",
    "plt.legend()"
   ]
  }
 ],
 "metadata": {
  "kernelspec": {
   "display_name": "Python 3 (ipykernel)",
   "language": "python",
   "name": "python3"
  },
  "language_info": {
   "codemirror_mode": {
    "name": "ipython",
    "version": 3
   },
   "file_extension": ".py",
   "mimetype": "text/x-python",
   "name": "python",
   "nbconvert_exporter": "python",
   "pygments_lexer": "ipython3",
   "version": "3.9.16"
  }
 },
 "nbformat": 4,
 "nbformat_minor": 5
}
