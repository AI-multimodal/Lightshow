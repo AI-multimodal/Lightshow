{
 "cells": [
  {
   "cell_type": "code",
   "execution_count": null,
   "id": "049dd868-f335-448b-b4b4-4e46fc92fc6f",
   "metadata": {},
   "outputs": [],
   "source": [
    "%load_ext autoreload\n",
    "%autoreload 2\n",
    "%config Completer.use_jedi = False"
   ]
  },
  {
   "cell_type": "code",
   "execution_count": null,
   "id": "6084bd34-6e2c-49f4-bd2b-544906a3ee28",
   "metadata": {},
   "outputs": [],
   "source": [
    "import numpy as np \n",
    "import sys\n",
    "import matplotlib.pyplot as plt"
   ]
  },
  {
   "cell_type": "code",
   "execution_count": null,
   "id": "58919792-0445-4008-90f1-0ae07b26ea97",
   "metadata": {},
   "outputs": [],
   "source": [
    "sys.path.append('../lightshow')"
   ]
  },
  {
   "cell_type": "code",
   "execution_count": null,
   "id": "c68156ee-66b5-4576-abb7-1e2ca97e72f0",
   "metadata": {},
   "outputs": [],
   "source": [
    "from postprocess import compare_utils"
   ]
  },
  {
   "cell_type": "code",
   "execution_count": null,
   "id": "9cb7e0df-d69f-4004-812b-97764d7548d6",
   "metadata": {},
   "outputs": [],
   "source": [
    "spectrum_exciting = np.loadtxt('./spectra_files/anatase_exciting.txt')\n",
    "spectrum_ocean = np.loadtxt('./spectra_files/anatase_ocean.txt')\n",
    "spectrum_FEFF = np.loadtxt('./spectra_files/anatase_theory_FEFF.txt')\n",
    "spectrum_exp = np.loadtxt('./spectra_files/anatase_exp.txt')"
   ]
  },
  {
   "cell_type": "markdown",
   "id": "46cee248-2c37-43df-b6fb-ba241b227bdc",
   "metadata": {},
   "source": [
    "#### exciting vs. ocean"
   ]
  },
  {
   "cell_type": "code",
   "execution_count": null,
   "id": "d599f31e-265a-4a0f-8239-609d64eb669b",
   "metadata": {},
   "outputs": [],
   "source": [
    "%%time\n",
    "pearson, spearman, coss_corr, shift = compare_utils.compare_between_spectra(spectrum_exciting, spectrum_ocean, erange=35, accuracy=0.01, method='coss')\n",
    "print(\"Correlation coefficients: pearson=%f, spearman=%f, cossine=%f. Shift=%f\"%(pearson, spearman, coss_corr, shift))\n",
    "print(\"log10(1-spearman)=%f\"%(np.log10(1-spearman)))"
   ]
  },
  {
   "cell_type": "code",
   "execution_count": null,
   "id": "0d64dc3e-7f79-4c9e-905f-a541760a2d49",
   "metadata": {},
   "outputs": [],
   "source": [
    "%%time\n",
    "pearson, spearman, coss_corr, shift = compare_utils.compare_between_spectra(spectrum_exciting, spectrum_ocean, erange=35, accuracy=0.01, method='pearson')\n",
    "print(\"Correlation coefficients: pearson=%f, spearman=%f, cossine=%f. Shift=%f\"%(pearson, spearman, coss_corr, shift))\n",
    "print(\"log10(1-spearman)=%f\"%(np.log10(1-spearman)))"
   ]
  },
  {
   "cell_type": "code",
   "execution_count": null,
   "id": "e49bc683-12e0-4757-b5d4-04adf5e51711",
   "metadata": {},
   "outputs": [],
   "source": [
    "plt.plot(spectrum_exciting[:,0], spectrum_exciting[:,1]/max(spectrum_exciting[:,1]), label='exciting')\n",
    "plt.plot(spectrum_ocean[:,0]+shift, spectrum_ocean[:,1]/max(spectrum_ocean[:,1]), label='ocean')\n",
    "plt.legend()"
   ]
  },
  {
   "cell_type": "markdown",
   "id": "ea11e568-c892-43b6-b152-f4262373b7fb",
   "metadata": {},
   "source": [
    "#### exciting vs. FEFF"
   ]
  },
  {
   "cell_type": "code",
   "execution_count": null,
   "id": "e35a0c7b-8fcc-4efa-bab8-540f2a3b6439",
   "metadata": {},
   "outputs": [],
   "source": [
    "%%time\n",
    "pearson, spearman, coss_corr, shift = compare_utils.compare_between_spectra(spectrum_exciting, spectrum_FEFF, erange=35, accuracy=0.01)\n",
    "print(\"Correlation coefficients: pearson=%f, spearman=%f, cossine=%f. Shift=%f\"%(pearson, spearman, coss_corr, shift))\n",
    "print(\"log10(1-spearman)=%f\"%(np.log10(1-spearman)))"
   ]
  },
  {
   "cell_type": "code",
   "execution_count": null,
   "id": "ae3e19a7-d3c3-4c98-8997-b3ccfedef9b7",
   "metadata": {},
   "outputs": [],
   "source": [
    "plt.plot(spectrum_exciting[:,0], spectrum_exciting[:,1]/max(spectrum_exciting[:,1]), label='exciting')\n",
    "plt.plot(spectrum_FEFF[:,0]+shift, spectrum_FEFF[:,1]/max(spectrum_FEFF[:,1]), label='FEFF')\n",
    "plt.legend()"
   ]
  },
  {
   "cell_type": "markdown",
   "id": "e85c48a1-41ab-427e-a88b-bd24b09561e7",
   "metadata": {},
   "source": [
    "#### exciting vs. experiment"
   ]
  },
  {
   "cell_type": "code",
   "execution_count": null,
   "id": "e1dcc588-2b15-4923-9475-22d331575365",
   "metadata": {},
   "outputs": [],
   "source": [
    "%%time\n",
    "pearson, spearman, coss_corr, shift = compare_utils.compare_between_spectra(spectrum_exciting, spectrum_exp, erange=35, accuracy=0.01)\n",
    "print(\"Correlation coefficients: pearson=%f, spearman=%f, cossine=%f. Shift=%f\"%(pearson, spearman, coss_corr, shift))\n",
    "print(\"log10(1-spearman)=%f\"%(np.log10(1-spearman)))"
   ]
  },
  {
   "cell_type": "code",
   "execution_count": null,
   "id": "8bc5897f-d2a2-4bac-856c-05eee2d293ae",
   "metadata": {},
   "outputs": [],
   "source": [
    "plt.plot(spectrum_exciting[:,0], spectrum_exciting[:,1]/max(spectrum_exciting[:,1]), label='exciting')\n",
    "plt.plot(spectrum_exp[:,0]+shift, spectrum_exp[:,1]/max(spectrum_exp[:,1]), label='experiment', marker='.', markersize=3)\n",
    "plt.legend()"
   ]
  },
  {
   "cell_type": "code",
   "execution_count": null,
   "id": "0f3623a0-0859-468d-9774-29aed59e375c",
   "metadata": {},
   "outputs": [],
   "source": []
  }
 ],
 "metadata": {
  "kernelspec": {
   "display_name": "kernel_chuntian",
   "language": "python",
   "name": "kernel_chuntian"
  },
  "language_info": {
   "codemirror_mode": {
    "name": "ipython",
    "version": 3
   },
   "file_extension": ".py",
   "mimetype": "text/x-python",
   "name": "python",
   "nbconvert_exporter": "python",
   "pygments_lexer": "ipython3",
   "version": "3.8.5"
  }
 },
 "nbformat": 4,
 "nbformat_minor": 5
}
