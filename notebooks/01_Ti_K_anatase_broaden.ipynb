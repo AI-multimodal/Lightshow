{
 "cells": [
  {
   "cell_type": "markdown",
   "id": "8ed27731",
   "metadata": {},
   "source": [
    "# X-ray absorption spectroscopy broadening"
   ]
  },
  {
   "cell_type": "markdown",
   "id": "76613b08-9151-4b19-9670-9c8784e9be23",
   "metadata": {},
   "source": [
    "The [Lightshow](https://github.com/AI-multimodal/Lightshow) software package is a one-stop-shop for writing computational spectroscopy input files. It also contains various utilities for dealing with spectroscopy data. In this tutorial, we'll show you how to use `lightshow.postprocessing` to broaden spectra. Specifically, the Ti X-ray absorption near-edge structure (XANES) K-edge spectrum of Anatase. We'll compare various simulated results to an experimental spectrum.\n",
    "\n",
    "📝 **Note:** This notebook is a tutorial designed to be run via online hosting services, but you can of course run it locally, it just might require a few modifications.\n",
    "\n",
    "📝 **Note:** You can find our arXiv Preprint here: https://arxiv.org/abs/2211.04452."
   ]
  },
  {
   "cell_type": "code",
   "execution_count": null,
   "id": "baea8d40-27a1-46c8-b6fc-42297d85ff3c",
   "metadata": {},
   "outputs": [],
   "source": [
    "%load_ext autoreload\n",
    "%autoreload 2\n",
    "%config Completer.use_jedi = False"
   ]
  },
  {
   "cell_type": "markdown",
   "id": "133ef1c9-de3f-4a80-9c25-9c9fe1c6ca35",
   "metadata": {},
   "source": [
    "## Summary"
   ]
  },
  {
   "cell_type": "markdown",
   "id": "edf1f7fb-d571-436f-beda-6ad425de9e44",
   "metadata": {},
   "source": [
    "We'll consider the following types of broadening in this work:\n",
    "\n",
    "**Gaussian**\n",
    "$$G(x; \\sigma) \\equiv \\frac{e^{-x^{2} /\\left(2 \\sigma^{2}\\right)}}{\\sigma \\sqrt{2 \\pi}}$$\n",
    "\n",
    "\n",
    "**Lorentzian**\n",
    "$$L(x; \\Gamma) \\equiv \\frac{\\frac{1}{2}\\Gamma}{\\pi\\left(x^{2}+(\\frac{1}{2}\\Gamma)^{2}\\right)}$$\n",
    "\n",
    "\n",
    "**Voigt**\n",
    "$$V(x; \\sigma, \\Gamma) \\equiv \\int_{-\\infty}^{\\infty} G\\left(x^{\\prime} ; \\sigma\\right) L\\left(x-x^{\\prime} ; \\Gamma\\right) d x^{\\prime}$$\n",
    "\n",
    "\n",
    "**Energy-dependent Voigt**\n",
    "\n",
    "This uses an energy dependent value for $\\Gamma$\n",
    "\n",
    "$$\\Gamma\\left(E\\right)=\\Gamma_0+\\alpha(E-E_\\mathrm{f})$$\n",
    "\n",
    "in Voigt function, where $\\Gamma_0$ and $\\alpha$ are constants. $E_\\mathrm{f}$ is the Fermi energy. More details can be found at [Herbert. Practical aspects of running the WIEN2k code for electron spectroscopy](https://doi.org/10.1016/j.micron.2006.03.010)."
   ]
  },
  {
   "cell_type": "markdown",
   "id": "aedcd8a7-e6ff-4470-8257-dd21b6f5fcde",
   "metadata": {},
   "source": [
    "# Install Lightshow"
   ]
  },
  {
   "cell_type": "markdown",
   "id": "f534acf8-aacb-432b-9055-e0bc7fdd6230",
   "metadata": {},
   "source": [
    "You can install lightshow via `pip` in this single command!"
   ]
  },
  {
   "cell_type": "code",
   "execution_count": null,
   "id": "b8eb7d42-9458-4f84-a07f-5b33bc308366",
   "metadata": {},
   "outputs": [],
   "source": [
    "!pip install lightshow"
   ]
  },
  {
   "cell_type": "markdown",
   "id": "7d0a3d61-0bfb-4c25-ab74-d94e6134bfcb",
   "metadata": {},
   "source": [
    "Plotting utilities:"
   ]
  },
  {
   "cell_type": "code",
   "execution_count": 11,
   "id": "b39dde09",
   "metadata": {
    "tags": []
   },
   "outputs": [],
   "source": [
    "import matplotlib.pyplot as plt\n",
    "import matplotlib as mpl\n",
    "import numpy as np\n",
    "\n",
    "mpl.rcParams['mathtext.fontset'] = 'stix'\n",
    "mpl.rcParams['font.family'] = 'STIXGeneral'\n",
    "mpl.rcParams['text.usetex'] = False\n",
    "plt.rc('xtick', labelsize=12)\n",
    "plt.rc('ytick', labelsize=12)\n",
    "plt.rc('axes', labelsize=12)\n",
    "mpl.rcParams['figure.dpi'] = 300"
   ]
  },
  {
   "cell_type": "markdown",
   "id": "1ce095f7-bb02-4ce8-b48a-f4dbdb081913",
   "metadata": {},
   "source": [
    "The `SiteSpectrum` contains everything we'll need."
   ]
  },
  {
   "cell_type": "code",
   "execution_count": 12,
   "id": "d62bec8c-f0b7-4c32-aa11-085650447146",
   "metadata": {
    "tags": []
   },
   "outputs": [],
   "source": [
    "from lightshow.postprocess.broaden import SiteSpectrum"
   ]
  },
  {
   "cell_type": "markdown",
   "id": "50d44fb3-4d1e-47c4-a849-e68273bd9b28",
   "metadata": {},
   "source": [
    "# Download spectral data"
   ]
  },
  {
   "cell_type": "markdown",
   "id": "6b2f4067-4ce9-4500-beec-63fbc980d441",
   "metadata": {},
   "source": [
    "We can use the [GitHub Contents API](https://docs.github.com/en/rest/repos/contents?apiVersion=2022-11-28#about-repository-contents) to download the `spectra_files` directory."
   ]
  },
  {
   "cell_type": "code",
   "execution_count": null,
   "id": "f51561a1-4890-4aad-92af-46b9a6f7533e",
   "metadata": {},
   "outputs": [],
   "source": [
    "!curl https://codeload.github.com/AI-multimodal/Lightshow/tar.gz/master | tar -xz --strip=2 Lightshow-master/notebooks/spectra_files"
   ]
  },
  {
   "cell_type": "markdown",
   "id": "a2073ffe-0b3a-4f54-abf6-c7e4e0ddcb24",
   "metadata": {},
   "source": [
    "# Demo"
   ]
  },
  {
   "cell_type": "markdown",
   "id": "663662b7-5998-4139-8a90-4f405d44b6fd",
   "metadata": {},
   "source": [
    "## Load the files"
   ]
  },
  {
   "cell_type": "code",
   "execution_count": 13,
   "id": "566763e9-13de-49ec-a07d-6308cd6cc639",
   "metadata": {
    "tags": []
   },
   "outputs": [],
   "source": [
    "# Experimental data\n",
    "experimental_spectrum = np.loadtxt('spectra_files/anatase_exp.txt')\n",
    "\n",
    "# Anatase TiO2 theoretical simulations\n",
    "vasp_data_loaded = np.loadtxt('spectra_files/anatase_theory_VASP.txt')\n",
    "feff_data_loaded = np.loadtxt(\"spectra_files/anatase_theory_FEFF.txt\")"
   ]
  },
  {
   "cell_type": "markdown",
   "id": "bc6ccc43",
   "metadata": {},
   "source": [
    "## Using manual parameters to broaden the XAS simulation"
   ]
  },
  {
   "cell_type": "markdown",
   "id": "70699c33-14c8-4423-9c99-9f797e9e4a76",
   "metadata": {},
   "source": [
    "Anatase TiO$_2$ experimental data is derived from Yan _et al_. [Ultrathin amorphous titania on nanowires: Optimization of conformal growth and elucidation of atomic-scale motifs.](https://doi.org/10.1021/acs.nanolett.8b04888) Nano Lett. **19**, 3457 (2019)."
   ]
  },
  {
   "cell_type": "code",
   "execution_count": 14,
   "id": "3c1d1d0a-0745-45e5-a6cf-4755bb0d8fd9",
   "metadata": {
    "tags": []
   },
   "outputs": [],
   "source": [
    "# Some information we'll need for the energy-dependent Voigt broadening\n",
    "TiK_core_state = -4864.0371       \n",
    "TiK_core_hole_lifetime = 0.89\n",
    "ana_core_hole_fermi_energy = 5.1302\n",
    "e_fermi = ana_core_hole_fermi_energy - TiK_core_state "
   ]
  },
  {
   "cell_type": "code",
   "execution_count": 15,
   "id": "a7a64667",
   "metadata": {
    "tags": []
   },
   "outputs": [],
   "source": [
    "vasp_spectrum = SiteSpectrum(vasp_data_loaded.copy(), e_fermi=e_fermi)\n",
    "\n",
    "# Align this data to experiment\n",
    "vasp_spectrum.align_to_experiment_(experimental_spectrum)\n",
    "vasp_spectrum.scale_max_to_1_()\n",
    "\n",
    "# Example of broadening the vasp spectrum with Gaussian broadening and sigma=1\n",
    "x = np.linspace(4900, 5100, 1000)\n",
    "vasp_spectrum_G_broadened = vasp_spectrum.broaden(x, method=\"Gaussian\", sigma=1.0)\n",
    "\n",
    "# ... using Lorentzian broadening\n",
    "vasp_spectrum_L_broadened = vasp_spectrum.broaden(x, method=\"Lorentzian\", gamma=1.0)\n",
    "\n",
    "# ... using Voigt broadening\n",
    "vasp_spectrum_V_broadened = vasp_spectrum.broaden(x, method=\"Voigt\", sigma=0.5, gamma=0.5)\n",
    "\n",
    "# ... using energy-dependent Voigt broadening\n",
    "vasp_spectrum_EDV_broadened = vasp_spectrum.broaden(\n",
    "    x,\n",
    "    method=\"energy_dependent_voigt_broaden\",\n",
    "    sigma=0.2,\n",
    "    alpha=0.025,\n",
    "    lifetime=TiK_core_hole_lifetime\n",
    ")"
   ]
  },
  {
   "cell_type": "code",
   "execution_count": 20,
   "id": "130c3950-9677-4c34-a2a7-9ee95f95b066",
   "metadata": {
    "tags": []
   },
   "outputs": [
    {
     "data": {
      "image/png": "[encoded data removed]",
      "text/plain": [
       "<Figure size 288x144 with 1 Axes>"
      ]
     },
     "metadata": {
      "needs_background": "light"
     },
     "output_type": "display_data"
    }
   ],
   "source": [
    "fig, ax = plt.subplots(1, 1, figsize=(4, 2))\n",
    "\n",
    "ax.plot(experimental_spectrum[:, 0], experimental_spectrum[:, 1], label='Experiment')\n",
    "ax.plot(vasp_spectrum.spectrum[:, 0], vasp_spectrum.spectrum[:, 1], label='VASP')\n",
    "ax.plot(x, vasp_spectrum_G_broadened, label=r'VASP (G; $\\sigma=1$)')\n",
    "ax.plot(x, vasp_spectrum_L_broadened, label=r'VASP (L; $\\gamma=1$)')\n",
    "ax.plot(x, vasp_spectrum_V_broadened, label=r'VASP (V; $\\gamma=\\sigma=0.5$)')\n",
    "ax.plot(x, vasp_spectrum_EDV_broadened, label=r'VASP (EDV; $\\sigma=0.2;\\alpha=0.025$)')\n",
    "\n",
    "\n",
    "ax.legend(frameon=False, bbox_to_anchor=(1, 0.5), loc=\"center left\", fontsize=6)\n",
    "ax.set_ylabel(\"$\\mu(E)$ (a.u.)\")\n",
    "ax.set_xlabel(\"$E$ (eV)\")\n",
    "ax.set_xlim(4960, 5010)\n",
    "\n",
    "plt.show()"
   ]
  },
  {
   "cell_type": "markdown",
   "id": "9a385279-ed73-4641-995d-7185eecbd36b",
   "metadata": {},
   "source": [
    "#### There are some issues here:\n",
    "1. The broadening parameter is not necessarily correct.\n",
    "2. Even after doing the align-by-maxima procedure, the spectra are clearly not aligned (look at the edge locations).\n",
    "\n",
    "We will address these problems in the future!"
   ]
  }
 ],
 "metadata": {
  "kernelspec": {
   "display_name": "Python 3 (ipykernel)",
   "language": "python",
   "name": "python3"
  },
  "language_info": {
   "codemirror_mode": {
    "name": "ipython",
    "version": 3
   },
   "file_extension": ".py",
   "mimetype": "text/x-python",
   "name": "python",
   "nbconvert_exporter": "python",
   "pygments_lexer": "ipython3",
   "version": "3.8.8"
  }
 },
 "nbformat": 4,
 "nbformat_minor": 5
}
